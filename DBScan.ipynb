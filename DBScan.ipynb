{
 "cells": [
  {
   "cell_type": "code",
   "execution_count": 1,
   "id": "094407f6",
   "metadata": {},
   "outputs": [],
   "source": [
    "# Importing the libraries\n",
    "import numpy as np\n",
    "import pandas as pd"
   ]
  },
  {
   "cell_type": "code",
   "execution_count": 2,
   "id": "75fd0b7e",
   "metadata": {},
   "outputs": [],
   "source": [
    "# Importing the dataset\n",
    "data=pd.read_csv(\"https://raw.githubusercontent.com/HossainSanowar-Github/Clustering/main/Customers.csv\")\n",
    "df=data.copy()"
   ]
  },
  {
   "cell_type": "code",
   "execution_count": 3,
   "id": "ecc36cd0",
   "metadata": {},
   "outputs": [],
   "source": [
    "X = df.iloc[:, [3, 4]].values"
   ]
  },
  {
   "cell_type": "code",
   "execution_count": 4,
   "id": "16dd54b2",
   "metadata": {},
   "outputs": [
    {
     "name": "stdout",
     "output_type": "stream",
     "text": [
      "-0.1908319132560097\n"
     ]
    }
   ],
   "source": [
    "# Using the elbow method to find the optimal number of clusters\n",
    "from sklearn.cluster import DBSCAN\n",
    "dbscan=DBSCAN(eps=3,min_samples=4)\n",
    "\n",
    "# Fitting the model\n",
    "model=dbscan.fit(X)\n",
    "labels=model.labels_\n",
    "\n",
    "\n",
    "from sklearn import metrics\n",
    "#identifying the points which makes up our core points\n",
    "sample_cores=np.zeros_like(labels,dtype=bool)\n",
    "sample_cores[dbscan.core_sample_indices_]=True\n",
    "\n",
    "#Calculating the number of clusters\n",
    "n_clusters=len(set(labels))- (1 if -1 in labels else 0)\n",
    "\n",
    "print(metrics.silhouette_score(X,labels))"
   ]
  },
  {
   "cell_type": "markdown",
   "id": "ee11f0cc",
   "metadata": {},
   "source": [
    "# Evaluation Metrics"
   ]
  },
  {
   "cell_type": "code",
   "execution_count": 5,
   "id": "0624d199",
   "metadata": {},
   "outputs": [
    {
     "name": "stdout",
     "output_type": "stream",
     "text": [
      "[-0.27856166269578403, -0.1908319132560097, -0.014307829164286037, 0.13799244650401032, 0.15101290315797036]\n"
     ]
    }
   ],
   "source": [
    "from sklearn.metrics import silhouette_samples,silhouette_score\n",
    "list_sl_avg=[]\n",
    "for i in range(2,7):\n",
    "    cluster_model=DBSCAN(eps=i,min_samples=4)\n",
    "    cluster_labels=cluster_model.fit_predict(X)\n",
    "    sil_avg=silhouette_score(X,cluster_labels)\n",
    "    list_sl_avg.append(sil_avg)\n",
    "    \n",
    "print(list_sl_avg)"
   ]
  },
  {
   "cell_type": "code",
   "execution_count": null,
   "id": "50abf491",
   "metadata": {},
   "outputs": [],
   "source": []
  }
 ],
 "metadata": {
  "kernelspec": {
   "display_name": "Python 3.9 (tensorflow)",
   "language": "python",
   "name": "tensorflow"
  },
  "language_info": {
   "codemirror_mode": {
    "name": "ipython",
    "version": 3
   },
   "file_extension": ".py",
   "mimetype": "text/x-python",
   "name": "python",
   "nbconvert_exporter": "python",
   "pygments_lexer": "ipython3",
   "version": "3.9.7"
  }
 },
 "nbformat": 4,
 "nbformat_minor": 5
}
